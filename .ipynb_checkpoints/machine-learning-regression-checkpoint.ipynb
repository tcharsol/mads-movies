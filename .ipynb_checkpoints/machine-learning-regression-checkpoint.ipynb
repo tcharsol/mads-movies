{
 "cells": [
  {
   "cell_type": "markdown",
   "metadata": {},
   "source": [
    "## SIADS591 - Milestone I - Project\n",
    "### Exploring the Factors Impacting a Movie's Profitability\n",
    "#### Machine Learning  - Regression"
   ]
  },
  {
   "cell_type": "code",
   "execution_count": 17,
   "metadata": {},
   "outputs": [],
   "source": [
    "import pandas as pd\n",
    "from sklearn.model_selection import GridSearchCV, train_test_split\n",
    "from sklearn.naive_bayes import GaussianNB\n",
    "from sklearn.tree import DecisionTreeRegressor\n",
    "from sklearn.ensemble import RandomForestRegressor\n",
    "from sklearn.metrics import mean_absolute_error\n",
    "from sklearn.svm import SVR\n",
    "import matplotlib.pyplot as plt\n",
    "%matplotlib inline"
   ]
  },
  {
   "cell_type": "markdown",
   "metadata": {},
   "source": [
    "The prepared data is imported:"
   ]
  },
  {
   "cell_type": "code",
   "execution_count": 18,
   "metadata": {},
   "outputs": [
    {
     "name": "stdout",
     "output_type": "stream",
     "text": [
      "imdb_dummies_df.shape : (4797, 29711)\n",
      "cols : ['tconst', 'primaryTitle', 'originalTitle', 'startYear', 'imdb_id', 'revenue', 'budget', 'runtime', 'director__A.R. Murugadoss', 'director__Aanand L. Rai']\n"
     ]
    }
   ],
   "source": [
    "save_dir = \"../../Output/\"\n",
    "imdb_dummies_df = pd.read_csv(save_dir + \"imdb_dummies_df_2020_09_15.csv\", sep=\"|\")\n",
    "print(\"imdb_dummies_df.shape :\", imdb_dummies_df.shape)\n",
    "cols = list(imdb_dummies_df.columns)\n",
    "print(\"cols :\", cols[:10])"
   ]
  },
  {
   "cell_type": "markdown",
   "metadata": {},
   "source": [
    "The target variable is created (y)."
   ]
  },
  {
   "cell_type": "code",
   "execution_count": 19,
   "metadata": {},
   "outputs": [],
   "source": [
    "ml_df = imdb_dummies_df.copy()\n",
    "y = ml_df[\"revenue\"] / ml_df[\"budget\"]"
   ]
  },
  {
   "cell_type": "markdown",
   "metadata": {},
   "source": [
    "The features are prepared in a variable called X."
   ]
  },
  {
   "cell_type": "code",
   "execution_count": 20,
   "metadata": {},
   "outputs": [
    {
     "name": "stdout",
     "output_type": "stream",
     "text": [
      "          startYear  runtime  director__A.R. Murugadoss  \\\n",
      "tconst                                                    \n",
      "tt0035423      2001    118.0                          0   \n",
      "tt0081455      1981    103.0                          0   \n",
      "tt0081633      1981    116.0                          0   \n",
      "tt0081974      1981    116.0                          0   \n",
      "tt0082005      1981    112.0                          0   \n",
      "\n",
      "           director__Aanand L. Rai  director__Aaron Blaise  \n",
      "tconst                                                      \n",
      "tt0035423                        0                       0  \n",
      "tt0081455                        0                       0  \n",
      "tt0081633                        0                       0  \n",
      "tt0081974                        0                       0  \n",
      "tt0082005                        0                       0  \n",
      "len(features) : 29705\n"
     ]
    }
   ],
   "source": [
    "ml_df[\"startYear\"] = ml_df[\"startYear\"].astype(int).astype(str)\n",
    "ml_df.drop([\"primaryTitle\", \"originalTitle\", \"imdb_id\", \"revenue\", \"budget\"], axis=\"columns\", inplace=True)\n",
    "ml_df.set_index(\"tconst\", inplace=True)\n",
    "print(ml_df[list(ml_df.columns)[:5]].head())\n",
    "\n",
    "X = ml_df\n",
    "\n",
    "features = list(X.columns)\n",
    "print(\"len(features) :\", len(features))\n",
    "if \"revenue\" in features:\n",
    "    print(\"revenue in features!\")\n",
    "# print(\"y :\", y.head())"
   ]
  },
  {
   "cell_type": "code",
   "execution_count": 21,
   "metadata": {},
   "outputs": [
    {
     "name": "stdout",
     "output_type": "stream",
     "text": [
      "y.shape : (4797,)\n",
      "X.shape : (4797, 29705)\n"
     ]
    }
   ],
   "source": [
    "print(\"y.shape :\", y.shape)\n",
    "print(\"X.shape :\", X.shape)"
   ]
  },
  {
   "cell_type": "code",
   "execution_count": 22,
   "metadata": {},
   "outputs": [],
   "source": [
    "X_train, X_test, y_train, y_test = train_test_split(X, y, test_size=0.2)"
   ]
  },
  {
   "cell_type": "code",
   "execution_count": 23,
   "metadata": {},
   "outputs": [
    {
     "name": "stdout",
     "output_type": "stream",
     "text": [
      "est.get_params().keys()  dict_keys(['C', 'cache_size', 'coef0', 'degree', 'epsilon', 'gamma', 'kernel', 'max_iter', 'shrinking', 'tol', 'verbose'])\n"
     ]
    }
   ],
   "source": [
    "est = SVR()\n",
    "\n",
    "print(\"est.get_params().keys() \", est.get_params().keys())\n",
    "grid_dict = {\"kernel\": [\"linear\"],  # \"linear\", ‘poly’, ‘rbf’, ‘sigmoid’\"\n",
    "             \"degree\": [1],\n",
    "             \"C\": [0.1],\n",
    "             \"gamma\": [\"auto\"]\n",
    "             }\n",
    "# grid_dict = {}\n",
    "grid = GridSearchCV(estimator=est,\n",
    "                    param_grid=grid_dict,\n",
    "                    scoring=\"r2\",\n",
    "                    n_jobs=2,\n",
    "                    cv=5)"
   ]
  },
  {
   "cell_type": "code",
   "execution_count": 24,
   "metadata": {},
   "outputs": [
    {
     "name": "stdout",
     "output_type": "stream",
     "text": [
      "best_params : {'C': 0.1, 'degree': 1, 'gamma': 'auto', 'kernel': 'linear'}\n"
     ]
    },
    {
     "ename": "AttributeError",
     "evalue": "'SVR' object has no attribute 'feature_importances_'",
     "output_type": "error",
     "traceback": [
      "\u001b[1;31m---------------------------------------------------------------------------\u001b[0m",
      "\u001b[1;31mAttributeError\u001b[0m                            Traceback (most recent call last)",
      "\u001b[1;32m<ipython-input-24-6a7d821dfbb7>\u001b[0m in \u001b[0;36m<module>\u001b[1;34m()\u001b[0m\n\u001b[0;32m      2\u001b[0m \u001b[0mbest_params\u001b[0m \u001b[1;33m=\u001b[0m \u001b[0mgrid\u001b[0m\u001b[1;33m.\u001b[0m\u001b[0mbest_params_\u001b[0m\u001b[1;33m\u001b[0m\u001b[0m\n\u001b[0;32m      3\u001b[0m \u001b[0mprint\u001b[0m\u001b[1;33m(\u001b[0m\u001b[1;34m\"best_params :\"\u001b[0m\u001b[1;33m,\u001b[0m \u001b[0mbest_params\u001b[0m\u001b[1;33m)\u001b[0m\u001b[1;33m\u001b[0m\u001b[0m\n\u001b[1;32m----> 4\u001b[1;33m \u001b[0mfeature_importances\u001b[0m \u001b[1;33m=\u001b[0m \u001b[0mgrid\u001b[0m\u001b[1;33m.\u001b[0m\u001b[0mbest_estimator_\u001b[0m\u001b[1;33m.\u001b[0m\u001b[0mfeature_importances_\u001b[0m\u001b[1;33m\u001b[0m\u001b[0m\n\u001b[0m\u001b[0;32m      5\u001b[0m \u001b[0mprint\u001b[0m\u001b[1;33m(\u001b[0m\u001b[1;34m\"feature_importances :\"\u001b[0m\u001b[1;33m,\u001b[0m \u001b[0mfeature_importances\u001b[0m\u001b[1;33m)\u001b[0m\u001b[1;33m\u001b[0m\u001b[0m\n\u001b[0;32m      6\u001b[0m \u001b[0mfeature_importances_df\u001b[0m \u001b[1;33m=\u001b[0m \u001b[0mpd\u001b[0m\u001b[1;33m.\u001b[0m\u001b[0mDataFrame\u001b[0m\u001b[1;33m(\u001b[0m\u001b[1;33m{\u001b[0m\u001b[1;34m\"Feature_name\"\u001b[0m\u001b[1;33m:\u001b[0m \u001b[0mfeatures\u001b[0m\u001b[1;33m,\u001b[0m \u001b[1;34m\"Score\"\u001b[0m\u001b[1;33m:\u001b[0m \u001b[0mfeature_importances\u001b[0m\u001b[1;33m}\u001b[0m\u001b[1;33m)\u001b[0m\u001b[1;33m\u001b[0m\u001b[0m\n",
      "\u001b[1;31mAttributeError\u001b[0m: 'SVR' object has no attribute 'feature_importances_'"
     ]
    }
   ],
   "source": [
    "grid.fit(X_train, y_train)\n",
    "best_params = grid.best_params_\n",
    "print(\"best_params :\", best_params)\n",
    "# feature_importances = grid.best_estimator_.feature_importances_\n",
    "# print(\"feature_importances :\", feature_importances)\n",
    "# feature_importances_df = pd.DataFrame({\"Feature_name\": features, \"Score\": feature_importances})\n",
    "# feature_importances_df.sort_values(\"Score\", ascending=False, inplace=True)\n",
    "# print(\"feature_importances_df :\")\n",
    "# print(feature_importances_df.head(10))\n",
    "\n",
    "y_pred = grid.predict(X_test)\n",
    "score = grid.score(X_test, y_test)\n",
    "print(\"score :\", score)\n",
    "mae = mean_absolute_error(y_true=y_test, y_pred=y_pred)\n",
    "print(\"mae :\", mae)"
   ]
  },
  {
   "cell_type": "code",
   "execution_count": null,
   "metadata": {},
   "outputs": [],
   "source": [
    "plt.clf()\n",
    "plt.scatter(y_pred, y_test, marker=\"o\", color=\"blue\")\n",
    "plt.xlabel(\"Predicted Values\")\n",
    "plt.ylabel(\"Actual Values\")\n",
    "# plt.savefig(save_dir + \"Predicted_vs_Actual.png\")\n",
    "plt.show()"
   ]
  }
 ],
 "metadata": {
  "kernelspec": {
   "display_name": "Python 3",
   "language": "python",
   "name": "python3"
  },
  "language_info": {
   "codemirror_mode": {
    "name": "ipython",
    "version": 3
   },
   "file_extension": ".py",
   "mimetype": "text/x-python",
   "name": "python",
   "nbconvert_exporter": "python",
   "pygments_lexer": "ipython3",
   "version": "3.6.5"
  }
 },
 "nbformat": 4,
 "nbformat_minor": 2
}
