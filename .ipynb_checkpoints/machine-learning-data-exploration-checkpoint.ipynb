{
 "cells": [
  {
   "cell_type": "markdown",
   "metadata": {},
   "source": [
    "## SIADS591 - Milestone I - Project\n",
    "### Exploring the Factors Impacting a Movie's Profitability\n",
    "#### Machine Learning  - Data Exploration"
   ]
  },
  {
   "cell_type": "markdown",
   "metadata": {},
   "source": [
    "The needed libraries are imported:"
   ]
  },
  {
   "cell_type": "code",
   "execution_count": 73,
   "metadata": {},
   "outputs": [],
   "source": [
    "import utilities as utils\n",
    "import pandas as pd\n",
    "import matplotlib.pyplot as plt\n",
    "%matplotlib inline"
   ]
  },
  {
   "cell_type": "markdown",
   "metadata": {},
   "source": [
    "The prepared data is imported:"
   ]
  },
  {
   "cell_type": "code",
   "execution_count": 74,
   "metadata": {},
   "outputs": [
    {
     "name": "stdout",
     "output_type": "stream",
     "text": [
      "imdb_dummies_df.shape : (4797, 29711)\n",
      "cols : ['tconst', 'primaryTitle', 'originalTitle', 'startYear', 'imdb_id', 'revenue', 'budget', 'runtime', 'director__A.R. Murugadoss', 'director__Aanand L. Rai']\n"
     ]
    }
   ],
   "source": [
    "save_dir = \"../../Output/\"\n",
    "imdb_dummies_df = pd.read_csv(save_dir + \"imdb_dummies_df_2020_09_15.csv\", sep=\"|\")\n",
    "print(\"imdb_dummies_df.shape :\", imdb_dummies_df.shape)\n",
    "cols = list(imdb_dummies_df.columns)\n",
    "print(\"cols :\", cols[:10])"
   ]
  },
  {
   "cell_type": "markdown",
   "metadata": {},
   "source": [
    "A movie's budget and revenue are the numeric values that will be used to create the outpu , that we wish to predict. This could be a continuous variable or a categorical variable. but, this will be created from these two numberic values. Let's see what the budget and revenue for this data set looks like."
   ]
  },
  {
   "cell_type": "code",
   "execution_count": 75,
   "metadata": {},
   "outputs": [
    {
     "data": {
      "image/png": "[encoded data removed]",
      "text/plain": [
       "<Figure size 504x504 with 1 Axes>"
      ]
     },
     "metadata": {},
     "output_type": "display_data"
    }
   ],
   "source": [
    "plt.figure(figsize=(7,7))\n",
    "plt.scatter(imdb_dummies_df[\"budget\"], imdb_dummies_df[\"revenue\"], marker=\"o\", color=\"red\")\n",
    "plt.xlabel(\"Budget\")\n",
    "plt.ylabel(\"Revenue\")\n",
    "plt.savefig(save_dir + \"/Budget_vs_Revenue.png\")"
   ]
  },
  {
   "cell_type": "code",
   "execution_count": 76,
   "metadata": {},
   "outputs": [
    {
     "data": {
      "text/html": [
       "<div>\n",
       "<style scoped>\n",
       "    .dataframe tbody tr th:only-of-type {\n",
       "        vertical-align: middle;\n",
       "    }\n",
       "\n",
       "    .dataframe tbody tr th {\n",
       "        vertical-align: top;\n",
       "    }\n",
       "\n",
       "    .dataframe thead th {\n",
       "        text-align: right;\n",
       "    }\n",
       "</style>\n",
       "<table border=\"1\" class=\"dataframe\">\n",
       "  <thead>\n",
       "    <tr style=\"text-align: right;\">\n",
       "      <th></th>\n",
       "      <th>budget</th>\n",
       "      <th>revenue</th>\n",
       "    </tr>\n",
       "  </thead>\n",
       "  <tbody>\n",
       "    <tr>\n",
       "      <th>budget</th>\n",
       "      <td>1.000000</td>\n",
       "      <td>0.745874</td>\n",
       "    </tr>\n",
       "    <tr>\n",
       "      <th>revenue</th>\n",
       "      <td>0.745874</td>\n",
       "      <td>1.000000</td>\n",
       "    </tr>\n",
       "  </tbody>\n",
       "</table>\n",
       "</div>"
      ],
      "text/plain": [
       "           budget   revenue\n",
       "budget   1.000000  0.745874\n",
       "revenue  0.745874  1.000000"
      ]
     },
     "execution_count": 76,
     "metadata": {},
     "output_type": "execute_result"
    }
   ],
   "source": [
    "budget_revenue_corr = imdb_dummies_df.copy()\n",
    "budget_revenue_corr = budget_revenue_corr[[\"budget\", \"revenue\"]].corr()\n",
    "budget_revenue_corr"
   ]
  },
  {
   "cell_type": "markdown",
   "metadata": {},
   "source": [
    "A mild correlation exists between budget and revenue. So, in general as the revenue values get larger the budget value get larger too. This brings up a question: **would we know the budget when we want to predict the revenue, or are do we intend to predict the revenue just from features like actors and directors?** This will be kept in mind. But now let's also see what sort of correlations might exist between budget and revenue and the features."
   ]
  },
  {
   "cell_type": "markdown",
   "metadata": {},
   "source": [
    "We define a function that will return correlation values of interest - that can be filtered by a threshold value and a possible string value (e.g. 'revenue', 'budget')."
   ]
  },
  {
   "cell_type": "code",
   "execution_count": 111,
   "metadata": {},
   "outputs": [],
   "source": [
    "def get_corr_values_above_threshold(corr_df, threshold_lower=0.5, threshold_upper=1.0, filter_values=None):\n",
    "    corr_values = corr_df.values\n",
    "    corr_dict = {}\n",
    "    corr_labels = list(corr_df.columns)\n",
    "    for row_idx in range(0, len(corr_labels)):\n",
    "        for col_idx in range(0, len(corr_labels)):\n",
    "            if corr_labels[row_idx] != corr_labels[col_idx]:\n",
    "                if (corr_labels[row_idx], corr_labels[col_idx]) not in corr_dict.keys() and \\\n",
    "                    (corr_labels[col_idx], corr_labels[row_idx]) not in corr_dict.keys():\n",
    "                    # corr_dict[(corr_labels[row_idx], corr_labels[col_idx])] = corr_values[row_idx, col_idx]\n",
    "                    corr_dict[(corr_labels[col_idx], corr_labels[row_idx])] = corr_values[row_idx, col_idx]\n",
    "\n",
    "    corr_dict_filtered_first = {}\n",
    "    for key, value in corr_dict.items():\n",
    "        if threshold_lower < value and value < threshold_upper:\n",
    "            corr_dict_filtered_first[key] = value\n",
    "    \n",
    "    if filter_values:\n",
    "        corr_dict_filtered_again = {}\n",
    "        for (key1, key2), value in corr_dict_filtered_first.items():\n",
    "            if (any(x in key1 for x in filter_values)) or (any(x in key2 for x in filter_values)) :\n",
    "                corr_dict_filtered_again[(key1, key2)] = value\n",
    "        corr_dict_filtered = corr_dict_filtered_again\n",
    "    else:\n",
    "        corr_dict_filtered = corr_dict_filtered_first\n",
    "        \n",
    "    return corr_dict_filtered"
   ]
  },
  {
   "cell_type": "markdown",
   "metadata": {},
   "source": [
    "The correlations seem to have a lot of low values, and the correlationmatrix will be very large, so we filter out the low values and only check the features that have a correlation coefficient larger than a threshold value."
   ]
  },
  {
   "cell_type": "code",
   "execution_count": 124,
   "metadata": {},
   "outputs": [
    {
     "name": "stdout",
     "output_type": "stream",
     "text": [
      "imdb_dummies_df.shape : (4797, 29711)\n"
     ]
    }
   ],
   "source": [
    "print(\"imdb_dummies_df.shape :\", imdb_dummies_df.shape)\n",
    "corr_df = imdb_dummies_df.copy()\n",
    "\n",
    "corr_df[\"startYear\"] = corr_df[\"startYear\"].astype(int).astype(str)\n",
    "corr_df[\"profitability\"] = corr_df[\"revenue\"] / corr_df[\"budget\"]\n",
    "corr_df = corr_df.drop([\"primaryTitle\", \"originalTitle\", \"imdb_id\"], axis=\"columns\")\n",
    "corr_df.set_index(\"tconst\", inplace=True)\n",
    "corr_cols = list(corr_df.columns)\n",
    "corr_cols.remove(\"profitability\")\n",
    "corr_cols_len = len(corr_cols)"
   ]
  },
  {
   "cell_type": "markdown",
   "metadata": {},
   "source": [
    "We check correlations for a small sample of the features (columns)."
   ]
  },
  {
   "cell_type": "code",
   "execution_count": 125,
   "metadata": {},
   "outputs": [
    {
     "name": "stdout",
     "output_type": "stream",
     "text": [
      "list(corr_df_temp.columns)[-5:] : ['startYear', 'revenue', 'budget', 'runtime', 'director__A.R. Murugadoss', 'director__Aanand L. Rai', 'director__Aaron Blaise', 'director__Aaron Horvath', 'director__Aaron Katz', 'director__Aaron Norris', 'director__Aaron Seltzer', 'director__Aaron Sorkin', 'director__Aashiq Abu', 'director__Abbas Alibhai Burmawalla', 'director__Abbas Tyrewala', 'director__Abby Kohn', 'director__Abderrahmane Sissako', 'director__Abel Ferrara', 'director__Abhinay Deo', 'director__Abhishek Chaubey', 'profitability']\n"
     ]
    },
    {
     "data": {
      "text/plain": [
       "{('budget', 'revenue'): 0.7458737875853152}"
      ]
     },
     "execution_count": 125,
     "metadata": {},
     "output_type": "execute_result"
    }
   ],
   "source": [
    "drop_cols = corr_cols[-1 * (corr_cols_len - 100):]\n",
    "corr_df_temp = corr_df.copy()\n",
    "corr_df_temp = corr_df_temp.drop(drop_cols, axis=1)\n",
    "corr_df_temp.head()\n",
    "print(\"list(corr_df_temp.columns)[-5:] :\", list(corr_df_temp.columns)[:])\n",
    "correlation_matrix = corr_df_temp.corr(method=\"pearson\")\n",
    "correlation_matrix\n",
    "high_corr_values = get_corr_values_above_threshold(corr_df=correlation_matrix, threshold_lower=0.5, threshold_upper=1.0)\n",
    "\n",
    "high_corr_values"
   ]
  },
  {
   "cell_type": "markdown",
   "metadata": {},
   "source": [
    "Some correlations come through on the small sample. Next we try a larger sample."
   ]
  },
  {
   "cell_type": "code",
   "execution_count": 128,
   "metadata": {
    "scrolled": false
   },
   "outputs": [
    {
     "name": "stdout",
     "output_type": "stream",
     "text": [
      "list(corr_df_temp.columns)[-5:] : ['principal__Scott Hill', 'principal__Scott Humphrey', 'principal__Scott Karol', 'principal__Scott Knight', 'principal__Scott Kosar', 'principal__Scott Kramer', 'principal__Scott Kroopf', 'principal__Scott LaStaiti', 'principal__Scott Lambert', 'profitability']\n"
     ]
    },
    {
     "data": {
      "text/plain": [
       "{('budget', 'revenue'): 0.7458737875853152,\n",
       " ('profitability', 'director__Alister Grierson'): 0.9638681432587082,\n",
       " ('profitability', 'principal__Alister Grierson'): 0.9638681432587082,\n",
       " ('profitability', 'principal__Allison Cratchley'): 0.9638681432587082,\n",
       " ('profitability', 'principal__Andrew Wight'): 0.9638681432587082,\n",
       " ('profitability', 'principal__Christopher James Baker'): 0.9638681432587082,\n",
       " ('profitability', 'principal__John Garvin'): 0.9638681432587082,\n",
       " ('profitability', \"principal__Jules O'Loughlin\"): 0.9638681432587082,\n",
       " ('profitability', 'principal__Mark Warner'): 0.6814475413704244,\n",
       " ('profitability', 'principal__Rhys Wakefield'): 0.9638681432587082,\n",
       " ('profitability', 'principal__Richard Roxburgh'): 0.6814449036689526}"
      ]
     },
     "execution_count": 128,
     "metadata": {},
     "output_type": "execute_result"
    }
   ],
   "source": [
    "drop_cols = corr_cols[-1 * (corr_cols_len - 20000):]\n",
    "corr_df_temp = corr_df.copy()\n",
    "corr_df_temp = corr_df_temp.drop(drop_cols, axis=1)\n",
    "corr_df_temp.head()\n",
    "print(\"list(corr_df_temp.columns)[-5:] :\", list(corr_df_temp.columns)[-10:])\n",
    "correlation_matrix = corr_df_temp.corr(method=\"pearson\")\n",
    "correlation_matrix\n",
    "high_corr_values = get_corr_values_above_threshold(corr_df=correlation_matrix, threshold_lower=0.5, threshold_upper=1.0, \n",
    "                                                   filter_values=['budget', 'revenue', 'profitability'])\n",
    "\n",
    "high_corr_values"
   ]
  },
  {
   "cell_type": "markdown",
   "metadata": {},
   "source": [
    "This shows that there is some correlation between certain principals and profitability.\n",
    "Next we will try to train a machine learning model on these feature and see if the profitability can be reliably predicted."
   ]
  },
  {
   "cell_type": "code",
   "execution_count": 80,
   "metadata": {},
   "outputs": [],
   "source": [
    "# imdb_dummies_df[\"startYear\"] = imdb_dummies_df[\"startYear\"].astype(int).astype(str)\n",
    "# imdb_dummies_df.drop([\"primaryTitle\", \"originalTitle\", \"imdb_id\", \"revenue\", \"budget\"], axis=\"columns\", inplace=True)\n",
    "# imdb_dummies_df.set_index(\"tconst\", inplace=True)\n",
    "# print(imdb_dummies_df[list(imdb_dummies_df.columns)[:5]].head())"
   ]
  },
  {
   "cell_type": "code",
   "execution_count": null,
   "metadata": {},
   "outputs": [],
   "source": []
  }
 ],
 "metadata": {
  "kernelspec": {
   "display_name": "Python 3",
   "language": "python",
   "name": "python3"
  },
  "language_info": {
   "codemirror_mode": {
    "name": "ipython",
    "version": 3
   },
   "file_extension": ".py",
   "mimetype": "text/x-python",
   "name": "python",
   "nbconvert_exporter": "python",
   "pygments_lexer": "ipython3",
   "version": "3.6.5"
  }
 },
 "nbformat": 4,
 "nbformat_minor": 2
}
