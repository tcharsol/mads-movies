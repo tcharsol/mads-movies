{
 "cells": [
  {
   "cell_type": "markdown",
   "metadata": {},
   "source": [
    "## SIADS591 - Milestone I - Project\n",
    "### Exploring the Factors Impacting a Movie's Profitability\n",
    "#### Machine Learning  - Data Exploration"
   ]
  },
  {
   "cell_type": "markdown",
   "metadata": {},
   "source": [
    "The needed libraries are imported:"
   ]
  },
  {
   "cell_type": "code",
   "execution_count": 1,
   "metadata": {},
   "outputs": [],
   "source": [
    "import utilities as utils\n",
    "import pandas as pd\n",
    "import matplotlib.pyplot as plt\n",
    "%matplotlib inline"
   ]
  },
  {
   "cell_type": "markdown",
   "metadata": {},
   "source": [
    "The prepared data is imported:"
   ]
  },
  {
   "cell_type": "code",
   "execution_count": null,
   "metadata": {},
   "outputs": [],
   "source": [
    "save_dir = \"../../Output/\"\n",
    "imdb_dummies_df = pd.read_csv(save_dir + \"imdb_dummies_df_2020_09_15.csv\", sep=\"|\")\n",
    "print(\"imdb_dummies_df.shape :\", imdb_dummies_df.shape)\n",
    "cols = list(imdb_dummies_df.columns)\n",
    "print(\"cols :\", cols[:10])"
   ]
  },
  {
   "cell_type": "markdown",
   "metadata": {},
   "source": [
    "A movie's budget and revenue are the numeric values that will be used to create the outpu , that we wish to predict. This could be a continuous variable or a categorical variable. but, this will be created from these two numberic values. Let's see what the budget and revenue for this data set looks like."
   ]
  },
  {
   "cell_type": "code",
   "execution_count": null,
   "metadata": {},
   "outputs": [],
   "source": [
    "plt.figure(figsize=(7,7))\n",
    "plt.scatter(imdb_dummies_df[\"budget\"], imdb_dummies_df[\"revenue\"], marker=\"o\", color=\"red\")\n",
    "plt.xlabel(\"Budget\")\n",
    "plt.ylabel(\"Revenue\")\n",
    "plt.savefig(save_dir + \"/Budget_vs_Revenue.png\")"
   ]
  },
  {
   "cell_type": "code",
   "execution_count": null,
   "metadata": {},
   "outputs": [],
   "source": [
    "budget_revenue_corr = imdb_dummies_df.copy()\n",
    "budget_revenue_corr = budget_revenue_corr[[\"budget\", \"revenue\"]].corr()\n",
    "budget_revenue_corr"
   ]
  },
  {
   "cell_type": "markdown",
   "metadata": {},
   "source": [
    "A mild correlation exists between budget and revenue. So, in general as the revenue values get larger the budget value get larger too. This brings up a question: **would we know the budget when we want to predict the revenue, or are do we intend to predict the revenue just from features like actors and directors?** This will be kept in mind. But now let's also see what sort of correlations might exist between budget and revenue and the features."
   ]
  },
  {
   "cell_type": "markdown",
   "metadata": {},
   "source": [
    "We define a function that will return correlation values of interest - that can be filtered by a threshold value and a possible string value (e.g. 'revenue', 'budget')."
   ]
  },
  {
   "cell_type": "code",
   "execution_count": null,
   "metadata": {},
   "outputs": [],
   "source": [
    "def get_corr_values_above_threshold(corr_df, threshold_lower=0.5, threshold_upper=1.0, filter_values=None):\n",
    "    corr_values = corr_df.values\n",
    "    corr_dict = {}\n",
    "    corr_labels = list(corr_df.columns)\n",
    "    for row_idx in range(0, len(corr_labels)):\n",
    "        for col_idx in range(0, len(corr_labels)):\n",
    "            if corr_labels[row_idx] != corr_labels[col_idx]:\n",
    "                if (corr_labels[row_idx], corr_labels[col_idx]) not in corr_dict.keys() and \\\n",
    "                    (corr_labels[col_idx], corr_labels[row_idx]) not in corr_dict.keys():\n",
    "                    # corr_dict[(corr_labels[row_idx], corr_labels[col_idx])] = corr_values[row_idx, col_idx]\n",
    "                    corr_dict[(corr_labels[col_idx], corr_labels[row_idx])] = corr_values[row_idx, col_idx]\n",
    "\n",
    "    corr_dict_filtered_first = {}\n",
    "    for key, value in corr_dict.items():\n",
    "        if threshold_lower < value and value < threshold_upper:\n",
    "            corr_dict_filtered_first[key] = value\n",
    "    \n",
    "    if filter_values:\n",
    "        corr_dict_filtered_again = {}\n",
    "        for (key1, key2), value in corr_dict_filtered_first.items():\n",
    "            if (any(x in key1 for x in filter_values)) or (any(x in key2 for x in filter_values)) :\n",
    "                corr_dict_filtered_again[(key1, key2)] = value\n",
    "        corr_dict_filtered = corr_dict_filtered_again\n",
    "    else:\n",
    "        corr_dict_filtered = corr_dict_filtered_first\n",
    "        \n",
    "    return corr_dict_filtered"
   ]
  },
  {
   "cell_type": "markdown",
   "metadata": {},
   "source": [
    "The correlations seem to have a lot of low values, and the correlationmatrix will be very large, so we filter out the low values and only check the features that have a correlation coefficient larger than a threshold value."
   ]
  },
  {
   "cell_type": "code",
   "execution_count": null,
   "metadata": {},
   "outputs": [],
   "source": [
    "print(\"imdb_dummies_df.shape :\", imdb_dummies_df.shape)\n",
    "corr_df = imdb_dummies_df.copy()\n",
    "\n",
    "corr_df[\"startYear\"] = corr_df[\"startYear\"].astype(int).astype(str)\n",
    "corr_df[\"profitability\"] = (corr_df[\"revenue\"] -  corr_df[\"budget\"]) / corr_df[\"budget\"]\n",
    "corr_df = corr_df.drop([\"primaryTitle\", \"originalTitle\", \"imdb_id\"], axis=\"columns\")\n",
    "corr_df.set_index(\"tconst\", inplace=True)\n",
    "corr_cols = list(corr_df.columns)\n",
    "corr_cols.remove(\"profitability\")\n",
    "corr_cols_len = len(corr_cols)"
   ]
  },
  {
   "cell_type": "markdown",
   "metadata": {},
   "source": [
    "We check correlations for a small sample of the features (columns)."
   ]
  },
  {
   "cell_type": "code",
   "execution_count": null,
   "metadata": {},
   "outputs": [],
   "source": [
    "drop_cols = corr_cols[-1 * (corr_cols_len - 100):]\n",
    "corr_df_temp = corr_df.copy()\n",
    "corr_df_temp = corr_df_temp.drop(drop_cols, axis=1)\n",
    "corr_df_temp.head()\n",
    "print(\"list(corr_df_temp.columns)[-5:] :\", list(corr_df_temp.columns)[:])\n",
    "correlation_matrix = corr_df_temp.corr(method=\"pearson\")\n",
    "correlation_matrix\n",
    "high_corr_values = get_corr_values_above_threshold(corr_df=correlation_matrix, threshold_lower=0.5, threshold_upper=1.0)\n",
    "\n",
    "high_corr_values"
   ]
  },
  {
   "cell_type": "markdown",
   "metadata": {},
   "source": [
    "Some correlations come through on the small sample. Next we try a larger sample."
   ]
  },
  {
   "cell_type": "code",
   "execution_count": null,
   "metadata": {
    "scrolled": false
   },
   "outputs": [],
   "source": [
    "drop_cols = corr_cols[-1 * (corr_cols_len - 200):]\n",
    "corr_df_temp = corr_df.copy()\n",
    "corr_df_temp = corr_df_temp.drop(drop_cols, axis=1)\n",
    "corr_df_temp.head()\n",
    "print(\"list(corr_df_temp.columns)[-5:] :\", list(corr_df_temp.columns)[-10:])\n",
    "correlation_matrix = corr_df_temp.corr(method=\"pearson\")\n",
    "correlation_matrix\n",
    "high_corr_values = get_corr_values_above_threshold(corr_df=correlation_matrix, threshold_lower=0.5, threshold_upper=1.0, \n",
    "                                                   filter_values=['budget', 'revenue', 'profitability'])\n",
    "\n",
    "high_corr_values"
   ]
  },
  {
   "cell_type": "markdown",
   "metadata": {},
   "source": [
    "This shows that there is some correlation between certain principals and profitability.\n",
    "Next we will try to train a machine learning model on these feature and see if the profitability can be reliably predicted."
   ]
  },
  {
   "cell_type": "code",
   "execution_count": null,
   "metadata": {},
   "outputs": [],
   "source": [
    "# imdb_dummies_df[\"startYear\"] = imdb_dummies_df[\"startYear\"].astype(int).astype(str)\n",
    "# imdb_dummies_df.drop([\"primaryTitle\", \"originalTitle\", \"imdb_id\", \"revenue\", \"budget\"], axis=\"columns\", inplace=True)\n",
    "# imdb_dummies_df.set_index(\"tconst\", inplace=True)\n",
    "# print(imdb_dummies_df[list(imdb_dummies_df.columns)[:5]].head())"
   ]
  },
  {
   "cell_type": "code",
   "execution_count": null,
   "metadata": {},
   "outputs": [],
   "source": []
  }
 ],
 "metadata": {
  "kernelspec": {
   "display_name": "Python 3",
   "language": "python",
   "name": "python3"
  },
  "language_info": {
   "codemirror_mode": {
    "name": "ipython",
    "version": 3
   },
   "file_extension": ".py",
   "mimetype": "text/x-python",
   "name": "python",
   "nbconvert_exporter": "python",
   "pygments_lexer": "ipython3",
   "version": "3.6.5"
  }
 },
 "nbformat": 4,
 "nbformat_minor": 2
}
